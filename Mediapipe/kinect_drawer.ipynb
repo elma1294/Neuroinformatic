{
 "cells": [
  {
   "cell_type": "code",
   "execution_count": 1,
   "metadata": {},
   "outputs": [],
   "source": [
    "import numpy as np \n",
    "import os\n",
    "from PIL import Image \n",
    "import pandas as pd\n",
    "from matplotlib import pyplot as plt\n",
    "from matplotlib import image\n",
    "from pathlib import Path\n",
    "import cv2\n",
    "import csv\n",
    "import argparse"
   ]
  },
  {
   "cell_type": "code",
   "execution_count": 2,
   "metadata": {},
   "outputs": [],
   "source": [
    "output_directory =r'C:\\Uni\\HiWi\\PlayGround\\ImageVersion2'\n",
    "kinecktskeleton_outputimages = r'C:\\Uni\\HiWi\\PlayGround\\ImageVersion2\\results'\n",
    "output_kineckt = os.path.join(output_directory,  'results3Dto2Dnew.csv')\n",
    "df = pd.read_csv(output_kineckt, skipinitialspace=True, index_col=0)"
   ]
  },
  {
   "cell_type": "code",
   "execution_count": 3,
   "metadata": {},
   "outputs": [
    {
     "name": "stdout",
     "output_type": "stream",
     "text": [
      "2560\n"
     ]
    }
   ],
   "source": [
    "#get size of image \n",
    "\n",
    "file =os.path.join(output_directory, 'TestImages\\shuttleFront_Kinect_ColorImage1629288474191866000.jpg')\n",
    "pic = Image.open(file)   \n",
    "width = pic.width\n",
    "height = pic.height\n",
    "print(width)"
   ]
  },
  {
   "cell_type": "code",
   "execution_count": 4,
   "metadata": {},
   "outputs": [],
   "source": [
    "joints =  {0: 'PELVIS',\n",
    "              1 : 'SPINE_NAVEL',\n",
    "              2 : 'SPINE_CHEST',\n",
    "              3 : 'NECK',\n",
    "              4 : 'CLAVICLE_LEFT',\n",
    "              5 : 'SHOULDER_LEFT',\n",
    "              6 : 'ELBOW_LEFT',\n",
    "              7 : 'WRIST_LEFT',\n",
    "              8 : 'HAND_LEFT',\n",
    "              9 : 'HANDTIP_LEFT',\n",
    "              10 : 'THUMB_LEFT',\n",
    "              11 : 'CLAVICLE_RIGHT',\n",
    "              12 : 'SHOULDER_RIGHT',\n",
    "              13 : 'ELBOW_RIGHT',\n",
    "              14 : 'WRIST_RIGHT',\n",
    "              15 : 'HAND_RIGHT',\n",
    "              16 : 'HANDTIP_RIGHT',\n",
    "              17 : 'THUMB_RIGHT',\n",
    "              18 : 'HIP_LEFT',\n",
    "              19 : 'KNEE_LEFT',\n",
    "              20 : 'ANKLE_LEFT',\n",
    "              21 : 'FOOT_LEFT',\n",
    "              22 : 'HIP_RIGHT',\n",
    "              23 : 'KNEE_RIGHT',\n",
    "              24 : 'ANKLE_RIGHT',\n",
    "              25 : 'FOOT_RIGHT',\n",
    "              26 : 'HEAD',\n",
    "              27 : 'NOSE',\n",
    "              28 : 'EYE_LEFT',\n",
    "              29 : 'EAR_LEFT',\n",
    "              30 : 'EYE_RIGHT',\n",
    "              31 : 'EAR_RIGHT'\n",
    "            }\n",
    "skeleton = [[0,18],[0,22],[0,1],[1,2],[2,3],[3,4],[4,5],[5,6],[6,7],[7,8],[8,9],[9,10],[3,11],[11,12],[12,13],[13,14],[14,15],\n",
    "                [15,16],[15,17],[3,26]]\n",
    "inv_joints = {v: k for k, v in joints.items()}"
   ]
  },
  {
   "cell_type": "code",
   "execution_count": 6,
   "metadata": {},
   "outputs": [],
   "source": [
    "def draw_skeleton(df):\n",
    "    for index, row in df.iterrows():\n",
    "        timestamp = str(index)#str(row['timestamp'])\n",
    "        path = f'C:\\\\Uni\\HiWi\\\\PlayGround\\\\ImageVersion2\\\\TestImages\\\\shuttleFront_Kinect_ColorImage{timestamp}.jpg'\n",
    "        my_file = Path(path)\n",
    "        if not my_file.is_file():\n",
    "            continue\n",
    "        img = image.imread(path,cv2.IMREAD_COLOR)\n",
    "        #img = cv2.cvtColor(img, cv2.COLOR_BGR2RGB)\n",
    "        for key in df:\n",
    "            if '.x' in key:\n",
    "                x_value = row[key]\n",
    "                y_value = row[key.replace('.x','.y')]\n",
    "                img = cv2.circle(img, (int(x_value*width),int(y_value*height)), radius=0, color=(252, 0, 100), thickness=20)\n",
    "                # Drawline\n",
    "                joint_index = inv_joints[key.replace('.x','').strip()]\n",
    "                for s in skeleton:\n",
    "                    if s[0] == joint_index:\n",
    "                        key_x2 = f'{joints[s[1]]}.x'\n",
    "                        key_y2 = f'{joints[s[1]]}.y'\n",
    "                        try:\n",
    "                            img = cv2.line(img,(x_value*width, y_value*height),(key_x2*width, key_y2*height),(0,0,255),2, thickness=10)\n",
    "                        except:\n",
    "                            print('Skipped key:'+ str(timestamp)+ ' - ' + key_x2)\n",
    "            #cv2.imwrite('houghlines3.jpg',img)\n",
    "            file_name = os.path.basename(path)\n",
    "            cv2.imwrite(r'{}\\ {}'.format(kinecktskeleton_outputimages, file_name),img)\n",
    "        #plt.imshow(img)\n",
    "        #plt.show()\n",
    "        #break\n",
    "draw_skeleton(df)"
   ]
  }
 ],
 "metadata": {
  "kernelspec": {
   "display_name": "Python 3",
   "language": "python",
   "name": "python3"
  },
  "language_info": {
   "codemirror_mode": {
    "name": "ipython",
    "version": 3
   },
   "file_extension": ".py",
   "mimetype": "text/x-python",
   "name": "python",
   "nbconvert_exporter": "python",
   "pygments_lexer": "ipython3",
   "version": "3.9.4 (tags/v3.9.4:1f2e308, Apr  6 2021, 13:40:21) [MSC v.1928 64 bit (AMD64)]"
  },
  "orig_nbformat": 4,
  "vscode": {
   "interpreter": {
    "hash": "65003682028f75e7ad2cc77d1866cc5780534184ab21fae32cf768e250257310"
   }
  }
 },
 "nbformat": 4,
 "nbformat_minor": 2
}
